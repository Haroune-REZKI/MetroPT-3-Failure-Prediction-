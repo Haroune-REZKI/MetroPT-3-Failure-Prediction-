{
 "cells": [
  {
   "cell_type": "markdown",
   "id": "1da49714",
   "metadata": {},
   "source": [
    "# we should normolize the data after spliting to not have data leakadge if you have any other remarque write it here\n",
    "\n",
    "# we should also change the name of the target variable \n",
    "\n",
    "# We should deal with outliers (blox pot)"
   ]
  },
  {
   "cell_type": "code",
   "execution_count": 1,
   "id": "4d6414e7-bb0c-47e1-b72b-c99b3e45fd8b",
   "metadata": {},
   "outputs": [],
   "source": [
    "import warnings\n",
    "\n",
    "# Ignore all warnings\n",
    "warnings.filterwarnings(\"ignore\")\n",
    "warnings.filterwarnings(\"ignore\", category=FutureWarning)\n"
   ]
  },
  {
   "cell_type": "markdown",
   "id": "3fcd0d56",
   "metadata": {},
   "source": [
    "### We import the necessary libraires"
   ]
  },
  {
   "cell_type": "code",
   "execution_count": 2,
   "id": "eafb3a16-17f8-46d7-87c5-ac22fb662313",
   "metadata": {},
   "outputs": [],
   "source": [
    "import numpy as np \n",
    "import pandas as pd\n",
    "import seaborn as sns\n",
    "import matplotlib.pyplot as plt"
   ]
  },
  {
   "cell_type": "code",
   "execution_count": 3,
   "id": "e3759ca9-7f57-45c8-8d8e-7f5cf4938299",
   "metadata": {},
   "outputs": [],
   "source": [
    "df = pd.read_csv(\"./metropt+3+dataset/MetroPT3(AirCompressor).csv\")"
   ]
  },
  {
   "cell_type": "code",
   "execution_count": 4,
   "id": "813d43ce-c3f3-48fc-b3d8-5806c1317d4d",
   "metadata": {
    "scrolled": true
   },
   "outputs": [
    {
     "data": {
      "text/html": [
       "<div>\n",
       "<style scoped>\n",
       "    .dataframe tbody tr th:only-of-type {\n",
       "        vertical-align: middle;\n",
       "    }\n",
       "\n",
       "    .dataframe tbody tr th {\n",
       "        vertical-align: top;\n",
       "    }\n",
       "\n",
       "    .dataframe thead th {\n",
       "        text-align: right;\n",
       "    }\n",
       "</style>\n",
       "<table border=\"1\" class=\"dataframe\">\n",
       "  <thead>\n",
       "    <tr style=\"text-align: right;\">\n",
       "      <th></th>\n",
       "      <th>Unnamed: 0</th>\n",
       "      <th>timestamp</th>\n",
       "      <th>TP2</th>\n",
       "      <th>TP3</th>\n",
       "      <th>H1</th>\n",
       "      <th>DV_pressure</th>\n",
       "      <th>Reservoirs</th>\n",
       "      <th>Oil_temperature</th>\n",
       "      <th>Motor_current</th>\n",
       "      <th>COMP</th>\n",
       "      <th>DV_eletric</th>\n",
       "      <th>Towers</th>\n",
       "      <th>MPG</th>\n",
       "      <th>LPS</th>\n",
       "      <th>Pressure_switch</th>\n",
       "      <th>Oil_level</th>\n",
       "      <th>Caudal_impulses</th>\n",
       "    </tr>\n",
       "  </thead>\n",
       "  <tbody>\n",
       "    <tr>\n",
       "      <th>0</th>\n",
       "      <td>0</td>\n",
       "      <td>2020-02-01 00:00:00</td>\n",
       "      <td>-0.012</td>\n",
       "      <td>9.358</td>\n",
       "      <td>9.340</td>\n",
       "      <td>-0.024</td>\n",
       "      <td>9.358</td>\n",
       "      <td>53.600</td>\n",
       "      <td>0.0400</td>\n",
       "      <td>1.0</td>\n",
       "      <td>0.0</td>\n",
       "      <td>1.0</td>\n",
       "      <td>1.0</td>\n",
       "      <td>0.0</td>\n",
       "      <td>1.0</td>\n",
       "      <td>1.0</td>\n",
       "      <td>1.0</td>\n",
       "    </tr>\n",
       "    <tr>\n",
       "      <th>1</th>\n",
       "      <td>10</td>\n",
       "      <td>2020-02-01 00:00:10</td>\n",
       "      <td>-0.014</td>\n",
       "      <td>9.348</td>\n",
       "      <td>9.332</td>\n",
       "      <td>-0.022</td>\n",
       "      <td>9.348</td>\n",
       "      <td>53.675</td>\n",
       "      <td>0.0400</td>\n",
       "      <td>1.0</td>\n",
       "      <td>0.0</td>\n",
       "      <td>1.0</td>\n",
       "      <td>1.0</td>\n",
       "      <td>0.0</td>\n",
       "      <td>1.0</td>\n",
       "      <td>1.0</td>\n",
       "      <td>1.0</td>\n",
       "    </tr>\n",
       "    <tr>\n",
       "      <th>2</th>\n",
       "      <td>20</td>\n",
       "      <td>2020-02-01 00:00:19</td>\n",
       "      <td>-0.012</td>\n",
       "      <td>9.338</td>\n",
       "      <td>9.322</td>\n",
       "      <td>-0.022</td>\n",
       "      <td>9.338</td>\n",
       "      <td>53.600</td>\n",
       "      <td>0.0425</td>\n",
       "      <td>1.0</td>\n",
       "      <td>0.0</td>\n",
       "      <td>1.0</td>\n",
       "      <td>1.0</td>\n",
       "      <td>0.0</td>\n",
       "      <td>1.0</td>\n",
       "      <td>1.0</td>\n",
       "      <td>1.0</td>\n",
       "    </tr>\n",
       "    <tr>\n",
       "      <th>3</th>\n",
       "      <td>30</td>\n",
       "      <td>2020-02-01 00:00:29</td>\n",
       "      <td>-0.012</td>\n",
       "      <td>9.328</td>\n",
       "      <td>9.312</td>\n",
       "      <td>-0.022</td>\n",
       "      <td>9.328</td>\n",
       "      <td>53.425</td>\n",
       "      <td>0.0400</td>\n",
       "      <td>1.0</td>\n",
       "      <td>0.0</td>\n",
       "      <td>1.0</td>\n",
       "      <td>1.0</td>\n",
       "      <td>0.0</td>\n",
       "      <td>1.0</td>\n",
       "      <td>1.0</td>\n",
       "      <td>1.0</td>\n",
       "    </tr>\n",
       "    <tr>\n",
       "      <th>4</th>\n",
       "      <td>40</td>\n",
       "      <td>2020-02-01 00:00:39</td>\n",
       "      <td>-0.012</td>\n",
       "      <td>9.318</td>\n",
       "      <td>9.302</td>\n",
       "      <td>-0.022</td>\n",
       "      <td>9.318</td>\n",
       "      <td>53.475</td>\n",
       "      <td>0.0400</td>\n",
       "      <td>1.0</td>\n",
       "      <td>0.0</td>\n",
       "      <td>1.0</td>\n",
       "      <td>1.0</td>\n",
       "      <td>0.0</td>\n",
       "      <td>1.0</td>\n",
       "      <td>1.0</td>\n",
       "      <td>1.0</td>\n",
       "    </tr>\n",
       "  </tbody>\n",
       "</table>\n",
       "</div>"
      ],
      "text/plain": [
       "   Unnamed: 0            timestamp    TP2    TP3     H1  DV_pressure  \\\n",
       "0           0  2020-02-01 00:00:00 -0.012  9.358  9.340       -0.024   \n",
       "1          10  2020-02-01 00:00:10 -0.014  9.348  9.332       -0.022   \n",
       "2          20  2020-02-01 00:00:19 -0.012  9.338  9.322       -0.022   \n",
       "3          30  2020-02-01 00:00:29 -0.012  9.328  9.312       -0.022   \n",
       "4          40  2020-02-01 00:00:39 -0.012  9.318  9.302       -0.022   \n",
       "\n",
       "   Reservoirs  Oil_temperature  Motor_current  COMP  DV_eletric  Towers  MPG  \\\n",
       "0       9.358           53.600         0.0400   1.0         0.0     1.0  1.0   \n",
       "1       9.348           53.675         0.0400   1.0         0.0     1.0  1.0   \n",
       "2       9.338           53.600         0.0425   1.0         0.0     1.0  1.0   \n",
       "3       9.328           53.425         0.0400   1.0         0.0     1.0  1.0   \n",
       "4       9.318           53.475         0.0400   1.0         0.0     1.0  1.0   \n",
       "\n",
       "   LPS  Pressure_switch  Oil_level  Caudal_impulses  \n",
       "0  0.0              1.0        1.0              1.0  \n",
       "1  0.0              1.0        1.0              1.0  \n",
       "2  0.0              1.0        1.0              1.0  \n",
       "3  0.0              1.0        1.0              1.0  \n",
       "4  0.0              1.0        1.0              1.0  "
      ]
     },
     "execution_count": 4,
     "metadata": {},
     "output_type": "execute_result"
    }
   ],
   "source": [
    "df.head()"
   ]
  },
  {
   "cell_type": "markdown",
   "id": "c26986c2",
   "metadata": {},
   "source": [
    "# DATA CLEANING PART "
   ]
  },
  {
   "cell_type": "code",
   "execution_count": 5,
   "id": "de19dec5-ae81-44ba-ba82-8232eefd1853",
   "metadata": {},
   "outputs": [
    {
     "data": {
      "text/plain": [
       "(1516948, 17)"
      ]
     },
     "execution_count": 5,
     "metadata": {},
     "output_type": "execute_result"
    }
   ],
   "source": [
    "df.shape"
   ]
  },
  {
   "cell_type": "code",
   "execution_count": 6,
   "id": "1569ce96-374d-4421-8810-a2844c747019",
   "metadata": {},
   "outputs": [
    {
     "data": {
      "text/html": [
       "<div>\n",
       "<style scoped>\n",
       "    .dataframe tbody tr th:only-of-type {\n",
       "        vertical-align: middle;\n",
       "    }\n",
       "\n",
       "    .dataframe tbody tr th {\n",
       "        vertical-align: top;\n",
       "    }\n",
       "\n",
       "    .dataframe thead th {\n",
       "        text-align: right;\n",
       "    }\n",
       "</style>\n",
       "<table border=\"1\" class=\"dataframe\">\n",
       "  <thead>\n",
       "    <tr style=\"text-align: right;\">\n",
       "      <th></th>\n",
       "      <th>Unnamed: 0</th>\n",
       "      <th>TP2</th>\n",
       "      <th>TP3</th>\n",
       "      <th>H1</th>\n",
       "      <th>DV_pressure</th>\n",
       "      <th>Reservoirs</th>\n",
       "      <th>Oil_temperature</th>\n",
       "      <th>Motor_current</th>\n",
       "      <th>COMP</th>\n",
       "      <th>DV_eletric</th>\n",
       "      <th>Towers</th>\n",
       "      <th>MPG</th>\n",
       "      <th>LPS</th>\n",
       "      <th>Pressure_switch</th>\n",
       "      <th>Oil_level</th>\n",
       "      <th>Caudal_impulses</th>\n",
       "    </tr>\n",
       "  </thead>\n",
       "  <tbody>\n",
       "    <tr>\n",
       "      <th>count</th>\n",
       "      <td>1.516948e+06</td>\n",
       "      <td>1.516948e+06</td>\n",
       "      <td>1.516948e+06</td>\n",
       "      <td>1.516948e+06</td>\n",
       "      <td>1.516948e+06</td>\n",
       "      <td>1.516948e+06</td>\n",
       "      <td>1.516948e+06</td>\n",
       "      <td>1.516948e+06</td>\n",
       "      <td>1.516948e+06</td>\n",
       "      <td>1.516948e+06</td>\n",
       "      <td>1.516948e+06</td>\n",
       "      <td>1.516948e+06</td>\n",
       "      <td>1.516948e+06</td>\n",
       "      <td>1.516948e+06</td>\n",
       "      <td>1.516948e+06</td>\n",
       "      <td>1.516948e+06</td>\n",
       "    </tr>\n",
       "    <tr>\n",
       "      <th>mean</th>\n",
       "      <td>7.584735e+06</td>\n",
       "      <td>1.367826e+00</td>\n",
       "      <td>8.984611e+00</td>\n",
       "      <td>7.568155e+00</td>\n",
       "      <td>5.595619e-02</td>\n",
       "      <td>8.985233e+00</td>\n",
       "      <td>6.264418e+01</td>\n",
       "      <td>2.050171e+00</td>\n",
       "      <td>8.369568e-01</td>\n",
       "      <td>1.606106e-01</td>\n",
       "      <td>9.198483e-01</td>\n",
       "      <td>8.326640e-01</td>\n",
       "      <td>3.420025e-03</td>\n",
       "      <td>9.914368e-01</td>\n",
       "      <td>9.041556e-01</td>\n",
       "      <td>9.371066e-01</td>\n",
       "    </tr>\n",
       "    <tr>\n",
       "      <th>std</th>\n",
       "      <td>4.379053e+06</td>\n",
       "      <td>3.250930e+00</td>\n",
       "      <td>6.390951e-01</td>\n",
       "      <td>3.333200e+00</td>\n",
       "      <td>3.824015e-01</td>\n",
       "      <td>6.383070e-01</td>\n",
       "      <td>6.516261e+00</td>\n",
       "      <td>2.302053e+00</td>\n",
       "      <td>3.694052e-01</td>\n",
       "      <td>3.671716e-01</td>\n",
       "      <td>2.715280e-01</td>\n",
       "      <td>3.732757e-01</td>\n",
       "      <td>5.838091e-02</td>\n",
       "      <td>9.214078e-02</td>\n",
       "      <td>2.943779e-01</td>\n",
       "      <td>2.427712e-01</td>\n",
       "    </tr>\n",
       "    <tr>\n",
       "      <th>min</th>\n",
       "      <td>0.000000e+00</td>\n",
       "      <td>-3.200000e-02</td>\n",
       "      <td>7.300000e-01</td>\n",
       "      <td>-3.600000e-02</td>\n",
       "      <td>-3.200000e-02</td>\n",
       "      <td>7.120000e-01</td>\n",
       "      <td>1.540000e+01</td>\n",
       "      <td>2.000000e-02</td>\n",
       "      <td>0.000000e+00</td>\n",
       "      <td>0.000000e+00</td>\n",
       "      <td>0.000000e+00</td>\n",
       "      <td>0.000000e+00</td>\n",
       "      <td>0.000000e+00</td>\n",
       "      <td>0.000000e+00</td>\n",
       "      <td>0.000000e+00</td>\n",
       "      <td>0.000000e+00</td>\n",
       "    </tr>\n",
       "    <tr>\n",
       "      <th>25%</th>\n",
       "      <td>3.792368e+06</td>\n",
       "      <td>-1.400000e-02</td>\n",
       "      <td>8.492000e+00</td>\n",
       "      <td>8.254000e+00</td>\n",
       "      <td>-2.200000e-02</td>\n",
       "      <td>8.494000e+00</td>\n",
       "      <td>5.777500e+01</td>\n",
       "      <td>4.000000e-02</td>\n",
       "      <td>1.000000e+00</td>\n",
       "      <td>0.000000e+00</td>\n",
       "      <td>1.000000e+00</td>\n",
       "      <td>1.000000e+00</td>\n",
       "      <td>0.000000e+00</td>\n",
       "      <td>1.000000e+00</td>\n",
       "      <td>1.000000e+00</td>\n",
       "      <td>1.000000e+00</td>\n",
       "    </tr>\n",
       "    <tr>\n",
       "      <th>50%</th>\n",
       "      <td>7.584735e+06</td>\n",
       "      <td>-1.200000e-02</td>\n",
       "      <td>8.960000e+00</td>\n",
       "      <td>8.784000e+00</td>\n",
       "      <td>-2.000000e-02</td>\n",
       "      <td>8.960000e+00</td>\n",
       "      <td>6.270000e+01</td>\n",
       "      <td>4.500000e-02</td>\n",
       "      <td>1.000000e+00</td>\n",
       "      <td>0.000000e+00</td>\n",
       "      <td>1.000000e+00</td>\n",
       "      <td>1.000000e+00</td>\n",
       "      <td>0.000000e+00</td>\n",
       "      <td>1.000000e+00</td>\n",
       "      <td>1.000000e+00</td>\n",
       "      <td>1.000000e+00</td>\n",
       "    </tr>\n",
       "    <tr>\n",
       "      <th>75%</th>\n",
       "      <td>1.137710e+07</td>\n",
       "      <td>-1.000000e-02</td>\n",
       "      <td>9.492000e+00</td>\n",
       "      <td>9.374000e+00</td>\n",
       "      <td>-1.800000e-02</td>\n",
       "      <td>9.492000e+00</td>\n",
       "      <td>6.725000e+01</td>\n",
       "      <td>3.807500e+00</td>\n",
       "      <td>1.000000e+00</td>\n",
       "      <td>0.000000e+00</td>\n",
       "      <td>1.000000e+00</td>\n",
       "      <td>1.000000e+00</td>\n",
       "      <td>0.000000e+00</td>\n",
       "      <td>1.000000e+00</td>\n",
       "      <td>1.000000e+00</td>\n",
       "      <td>1.000000e+00</td>\n",
       "    </tr>\n",
       "    <tr>\n",
       "      <th>max</th>\n",
       "      <td>1.516947e+07</td>\n",
       "      <td>1.067600e+01</td>\n",
       "      <td>1.030200e+01</td>\n",
       "      <td>1.028800e+01</td>\n",
       "      <td>9.844000e+00</td>\n",
       "      <td>1.030000e+01</td>\n",
       "      <td>8.905000e+01</td>\n",
       "      <td>9.295000e+00</td>\n",
       "      <td>1.000000e+00</td>\n",
       "      <td>1.000000e+00</td>\n",
       "      <td>1.000000e+00</td>\n",
       "      <td>1.000000e+00</td>\n",
       "      <td>1.000000e+00</td>\n",
       "      <td>1.000000e+00</td>\n",
       "      <td>1.000000e+00</td>\n",
       "      <td>1.000000e+00</td>\n",
       "    </tr>\n",
       "  </tbody>\n",
       "</table>\n",
       "</div>"
      ],
      "text/plain": [
       "         Unnamed: 0           TP2           TP3            H1   DV_pressure  \\\n",
       "count  1.516948e+06  1.516948e+06  1.516948e+06  1.516948e+06  1.516948e+06   \n",
       "mean   7.584735e+06  1.367826e+00  8.984611e+00  7.568155e+00  5.595619e-02   \n",
       "std    4.379053e+06  3.250930e+00  6.390951e-01  3.333200e+00  3.824015e-01   \n",
       "min    0.000000e+00 -3.200000e-02  7.300000e-01 -3.600000e-02 -3.200000e-02   \n",
       "25%    3.792368e+06 -1.400000e-02  8.492000e+00  8.254000e+00 -2.200000e-02   \n",
       "50%    7.584735e+06 -1.200000e-02  8.960000e+00  8.784000e+00 -2.000000e-02   \n",
       "75%    1.137710e+07 -1.000000e-02  9.492000e+00  9.374000e+00 -1.800000e-02   \n",
       "max    1.516947e+07  1.067600e+01  1.030200e+01  1.028800e+01  9.844000e+00   \n",
       "\n",
       "         Reservoirs  Oil_temperature  Motor_current          COMP  \\\n",
       "count  1.516948e+06     1.516948e+06   1.516948e+06  1.516948e+06   \n",
       "mean   8.985233e+00     6.264418e+01   2.050171e+00  8.369568e-01   \n",
       "std    6.383070e-01     6.516261e+00   2.302053e+00  3.694052e-01   \n",
       "min    7.120000e-01     1.540000e+01   2.000000e-02  0.000000e+00   \n",
       "25%    8.494000e+00     5.777500e+01   4.000000e-02  1.000000e+00   \n",
       "50%    8.960000e+00     6.270000e+01   4.500000e-02  1.000000e+00   \n",
       "75%    9.492000e+00     6.725000e+01   3.807500e+00  1.000000e+00   \n",
       "max    1.030000e+01     8.905000e+01   9.295000e+00  1.000000e+00   \n",
       "\n",
       "         DV_eletric        Towers           MPG           LPS  \\\n",
       "count  1.516948e+06  1.516948e+06  1.516948e+06  1.516948e+06   \n",
       "mean   1.606106e-01  9.198483e-01  8.326640e-01  3.420025e-03   \n",
       "std    3.671716e-01  2.715280e-01  3.732757e-01  5.838091e-02   \n",
       "min    0.000000e+00  0.000000e+00  0.000000e+00  0.000000e+00   \n",
       "25%    0.000000e+00  1.000000e+00  1.000000e+00  0.000000e+00   \n",
       "50%    0.000000e+00  1.000000e+00  1.000000e+00  0.000000e+00   \n",
       "75%    0.000000e+00  1.000000e+00  1.000000e+00  0.000000e+00   \n",
       "max    1.000000e+00  1.000000e+00  1.000000e+00  1.000000e+00   \n",
       "\n",
       "       Pressure_switch     Oil_level  Caudal_impulses  \n",
       "count     1.516948e+06  1.516948e+06     1.516948e+06  \n",
       "mean      9.914368e-01  9.041556e-01     9.371066e-01  \n",
       "std       9.214078e-02  2.943779e-01     2.427712e-01  \n",
       "min       0.000000e+00  0.000000e+00     0.000000e+00  \n",
       "25%       1.000000e+00  1.000000e+00     1.000000e+00  \n",
       "50%       1.000000e+00  1.000000e+00     1.000000e+00  \n",
       "75%       1.000000e+00  1.000000e+00     1.000000e+00  \n",
       "max       1.000000e+00  1.000000e+00     1.000000e+00  "
      ]
     },
     "execution_count": 6,
     "metadata": {},
     "output_type": "execute_result"
    }
   ],
   "source": [
    "df.describe()"
   ]
  },
  {
   "cell_type": "code",
   "execution_count": 7,
   "id": "8594d53e-2345-4dc5-84cd-c27ec5adbaf8",
   "metadata": {},
   "outputs": [
    {
     "name": "stdout",
     "output_type": "stream",
     "text": [
      "<class 'pandas.core.frame.DataFrame'>\n",
      "RangeIndex: 1516948 entries, 0 to 1516947\n",
      "Data columns (total 17 columns):\n",
      " #   Column           Non-Null Count    Dtype  \n",
      "---  ------           --------------    -----  \n",
      " 0   Unnamed: 0       1516948 non-null  int64  \n",
      " 1   timestamp        1516948 non-null  object \n",
      " 2   TP2              1516948 non-null  float64\n",
      " 3   TP3              1516948 non-null  float64\n",
      " 4   H1               1516948 non-null  float64\n",
      " 5   DV_pressure      1516948 non-null  float64\n",
      " 6   Reservoirs       1516948 non-null  float64\n",
      " 7   Oil_temperature  1516948 non-null  float64\n",
      " 8   Motor_current    1516948 non-null  float64\n",
      " 9   COMP             1516948 non-null  float64\n",
      " 10  DV_eletric       1516948 non-null  float64\n",
      " 11  Towers           1516948 non-null  float64\n",
      " 12  MPG              1516948 non-null  float64\n",
      " 13  LPS              1516948 non-null  float64\n",
      " 14  Pressure_switch  1516948 non-null  float64\n",
      " 15  Oil_level        1516948 non-null  float64\n",
      " 16  Caudal_impulses  1516948 non-null  float64\n",
      "dtypes: float64(15), int64(1), object(1)\n",
      "memory usage: 196.7+ MB\n"
     ]
    }
   ],
   "source": [
    "df.info()"
   ]
  },
  {
   "cell_type": "markdown",
   "id": "b92a4203",
   "metadata": {},
   "source": [
    "**We drop the Unnamed: 0**"
   ]
  },
  {
   "cell_type": "code",
   "execution_count": 8,
   "id": "45be195d",
   "metadata": {},
   "outputs": [],
   "source": [
    "df.drop(['Unnamed: 0'], axis=1, inplace=True)"
   ]
  },
  {
   "cell_type": "markdown",
   "id": "91908b5f",
   "metadata": {},
   "source": [
    "### We convert the timestamp feature into a time object"
   ]
  },
  {
   "cell_type": "code",
   "execution_count": 9,
   "id": "49a525c8-bb31-4824-9fa0-0a8e62d51b0f",
   "metadata": {},
   "outputs": [],
   "source": [
    "df['timestamp'] = pd.to_datetime(df['timestamp'])"
   ]
  },
  {
   "cell_type": "code",
   "execution_count": 10,
   "id": "4627ee0d-d0cf-4ebd-abf3-be84d3c3ecc9",
   "metadata": {},
   "outputs": [
    {
     "data": {
      "text/plain": [
       "pandas._libs.tslibs.timestamps.Timestamp"
      ]
     },
     "execution_count": 10,
     "metadata": {},
     "output_type": "execute_result"
    }
   ],
   "source": [
    "type(df['timestamp'].iloc[0])"
   ]
  },
  {
   "cell_type": "markdown",
   "id": "69d74c02",
   "metadata": {},
   "source": [
    "### We check if there is any nan values to Handle "
   ]
  },
  {
   "cell_type": "code",
   "execution_count": 11,
   "id": "b3392364-8fb4-41ac-b323-85b1ddaff9d7",
   "metadata": {},
   "outputs": [
    {
     "data": {
      "text/plain": [
       "timestamp          0\n",
       "TP2                0\n",
       "TP3                0\n",
       "H1                 0\n",
       "DV_pressure        0\n",
       "Reservoirs         0\n",
       "Oil_temperature    0\n",
       "Motor_current      0\n",
       "COMP               0\n",
       "DV_eletric         0\n",
       "Towers             0\n",
       "MPG                0\n",
       "LPS                0\n",
       "Pressure_switch    0\n",
       "Oil_level          0\n",
       "Caudal_impulses    0\n",
       "dtype: int64"
      ]
     },
     "execution_count": 11,
     "metadata": {},
     "output_type": "execute_result"
    }
   ],
   "source": [
    "df.isna().sum()"
   ]
  },
  {
   "cell_type": "markdown",
   "id": "72844e03",
   "metadata": {},
   "source": [
    "**We see that there is no nan values to handle**"
   ]
  },
  {
   "cell_type": "markdown",
   "id": "41200772",
   "metadata": {},
   "source": [
    "### We check if there is duplicates"
   ]
  },
  {
   "cell_type": "code",
   "execution_count": 12,
   "id": "fd25eb93",
   "metadata": {},
   "outputs": [
    {
     "data": {
      "text/plain": [
       "0"
      ]
     },
     "execution_count": 12,
     "metadata": {},
     "output_type": "execute_result"
    }
   ],
   "source": [
    "df.duplicated().sum()"
   ]
  },
  {
   "cell_type": "markdown",
   "id": "9da20c22",
   "metadata": {},
   "source": [
    "##### **as we see all the values are false so there is no duplicate value**"
   ]
  },
  {
   "cell_type": "markdown",
   "id": "461085fc",
   "metadata": {},
   "source": [
    "# Label data part"
   ]
  },
  {
   "cell_type": "markdown",
   "id": "a8b4cd35",
   "metadata": {},
   "source": [
    "**As mentioned in the report we can label our data as Failure or not**"
   ]
  },
  {
   "cell_type": "code",
   "execution_count": 13,
   "id": "4b37abd8-6e0d-44e3-b89e-7d8a9ef1935c",
   "metadata": {},
   "outputs": [],
   "source": [
    "# Initially, all data is labeled as \"up\" (1)\n",
    "df['down'] = 1  \n",
    "\n",
    "# Define the periods when the machine was down from the report\n",
    "down_periods = [\n",
    "    ('2020-04-18 00:00:00', '2020-04-18 23:59:00'),\n",
    "    ('2020-05-29 23:30:00', '2020-05-30 06:00:00'),\n",
    "    ('2020-06-05 10:00:00', '2020-06-07 14:30:00'),\n",
    "    ('2020-07-15 14:30:00', '2020-07-15 19:00:00')\n",
    "]\n",
    "\n",
    "# Label the corresponding rows as \"down\" within the specified periods\n",
    "for start, end in down_periods:\n",
    "    df.loc[(df['timestamp'] >= start) & (df['timestamp'] <= end), 'down'] = 0\n",
    "\n"
   ]
  },
  {
   "cell_type": "code",
   "execution_count": 14,
   "id": "b1963a66-b8fb-4468-85a6-1c2c35d8c882",
   "metadata": {},
   "outputs": [
    {
     "data": {
      "text/html": [
       "<div>\n",
       "<style scoped>\n",
       "    .dataframe tbody tr th:only-of-type {\n",
       "        vertical-align: middle;\n",
       "    }\n",
       "\n",
       "    .dataframe tbody tr th {\n",
       "        vertical-align: top;\n",
       "    }\n",
       "\n",
       "    .dataframe thead th {\n",
       "        text-align: right;\n",
       "    }\n",
       "</style>\n",
       "<table border=\"1\" class=\"dataframe\">\n",
       "  <thead>\n",
       "    <tr style=\"text-align: right;\">\n",
       "      <th></th>\n",
       "      <th>timestamp</th>\n",
       "      <th>TP2</th>\n",
       "      <th>TP3</th>\n",
       "      <th>H1</th>\n",
       "      <th>DV_pressure</th>\n",
       "      <th>Reservoirs</th>\n",
       "      <th>Oil_temperature</th>\n",
       "      <th>Motor_current</th>\n",
       "      <th>COMP</th>\n",
       "      <th>DV_eletric</th>\n",
       "      <th>Towers</th>\n",
       "      <th>MPG</th>\n",
       "      <th>LPS</th>\n",
       "      <th>Pressure_switch</th>\n",
       "      <th>Oil_level</th>\n",
       "      <th>Caudal_impulses</th>\n",
       "      <th>down</th>\n",
       "    </tr>\n",
       "  </thead>\n",
       "  <tbody>\n",
       "    <tr>\n",
       "      <th>0</th>\n",
       "      <td>2020-02-01 00:00:00</td>\n",
       "      <td>-0.012</td>\n",
       "      <td>9.358</td>\n",
       "      <td>9.340</td>\n",
       "      <td>-0.024</td>\n",
       "      <td>9.358</td>\n",
       "      <td>53.600</td>\n",
       "      <td>0.0400</td>\n",
       "      <td>1.0</td>\n",
       "      <td>0.0</td>\n",
       "      <td>1.0</td>\n",
       "      <td>1.0</td>\n",
       "      <td>0.0</td>\n",
       "      <td>1.0</td>\n",
       "      <td>1.0</td>\n",
       "      <td>1.0</td>\n",
       "      <td>1</td>\n",
       "    </tr>\n",
       "    <tr>\n",
       "      <th>1</th>\n",
       "      <td>2020-02-01 00:00:10</td>\n",
       "      <td>-0.014</td>\n",
       "      <td>9.348</td>\n",
       "      <td>9.332</td>\n",
       "      <td>-0.022</td>\n",
       "      <td>9.348</td>\n",
       "      <td>53.675</td>\n",
       "      <td>0.0400</td>\n",
       "      <td>1.0</td>\n",
       "      <td>0.0</td>\n",
       "      <td>1.0</td>\n",
       "      <td>1.0</td>\n",
       "      <td>0.0</td>\n",
       "      <td>1.0</td>\n",
       "      <td>1.0</td>\n",
       "      <td>1.0</td>\n",
       "      <td>1</td>\n",
       "    </tr>\n",
       "    <tr>\n",
       "      <th>2</th>\n",
       "      <td>2020-02-01 00:00:19</td>\n",
       "      <td>-0.012</td>\n",
       "      <td>9.338</td>\n",
       "      <td>9.322</td>\n",
       "      <td>-0.022</td>\n",
       "      <td>9.338</td>\n",
       "      <td>53.600</td>\n",
       "      <td>0.0425</td>\n",
       "      <td>1.0</td>\n",
       "      <td>0.0</td>\n",
       "      <td>1.0</td>\n",
       "      <td>1.0</td>\n",
       "      <td>0.0</td>\n",
       "      <td>1.0</td>\n",
       "      <td>1.0</td>\n",
       "      <td>1.0</td>\n",
       "      <td>1</td>\n",
       "    </tr>\n",
       "    <tr>\n",
       "      <th>3</th>\n",
       "      <td>2020-02-01 00:00:29</td>\n",
       "      <td>-0.012</td>\n",
       "      <td>9.328</td>\n",
       "      <td>9.312</td>\n",
       "      <td>-0.022</td>\n",
       "      <td>9.328</td>\n",
       "      <td>53.425</td>\n",
       "      <td>0.0400</td>\n",
       "      <td>1.0</td>\n",
       "      <td>0.0</td>\n",
       "      <td>1.0</td>\n",
       "      <td>1.0</td>\n",
       "      <td>0.0</td>\n",
       "      <td>1.0</td>\n",
       "      <td>1.0</td>\n",
       "      <td>1.0</td>\n",
       "      <td>1</td>\n",
       "    </tr>\n",
       "    <tr>\n",
       "      <th>4</th>\n",
       "      <td>2020-02-01 00:00:39</td>\n",
       "      <td>-0.012</td>\n",
       "      <td>9.318</td>\n",
       "      <td>9.302</td>\n",
       "      <td>-0.022</td>\n",
       "      <td>9.318</td>\n",
       "      <td>53.475</td>\n",
       "      <td>0.0400</td>\n",
       "      <td>1.0</td>\n",
       "      <td>0.0</td>\n",
       "      <td>1.0</td>\n",
       "      <td>1.0</td>\n",
       "      <td>0.0</td>\n",
       "      <td>1.0</td>\n",
       "      <td>1.0</td>\n",
       "      <td>1.0</td>\n",
       "      <td>1</td>\n",
       "    </tr>\n",
       "  </tbody>\n",
       "</table>\n",
       "</div>"
      ],
      "text/plain": [
       "            timestamp    TP2    TP3     H1  DV_pressure  Reservoirs  \\\n",
       "0 2020-02-01 00:00:00 -0.012  9.358  9.340       -0.024       9.358   \n",
       "1 2020-02-01 00:00:10 -0.014  9.348  9.332       -0.022       9.348   \n",
       "2 2020-02-01 00:00:19 -0.012  9.338  9.322       -0.022       9.338   \n",
       "3 2020-02-01 00:00:29 -0.012  9.328  9.312       -0.022       9.328   \n",
       "4 2020-02-01 00:00:39 -0.012  9.318  9.302       -0.022       9.318   \n",
       "\n",
       "   Oil_temperature  Motor_current  COMP  DV_eletric  Towers  MPG  LPS  \\\n",
       "0           53.600         0.0400   1.0         0.0     1.0  1.0  0.0   \n",
       "1           53.675         0.0400   1.0         0.0     1.0  1.0  0.0   \n",
       "2           53.600         0.0425   1.0         0.0     1.0  1.0  0.0   \n",
       "3           53.425         0.0400   1.0         0.0     1.0  1.0  0.0   \n",
       "4           53.475         0.0400   1.0         0.0     1.0  1.0  0.0   \n",
       "\n",
       "   Pressure_switch  Oil_level  Caudal_impulses  down  \n",
       "0              1.0        1.0              1.0     1  \n",
       "1              1.0        1.0              1.0     1  \n",
       "2              1.0        1.0              1.0     1  \n",
       "3              1.0        1.0              1.0     1  \n",
       "4              1.0        1.0              1.0     1  "
      ]
     },
     "execution_count": 14,
     "metadata": {},
     "output_type": "execute_result"
    }
   ],
   "source": [
    "df.head()"
   ]
  },
  {
   "cell_type": "code",
   "execution_count": 15,
   "id": "ebcde9c2-1b5c-4e2f-a743-cfcd810ac68f",
   "metadata": {},
   "outputs": [
    {
     "name": "stdout",
     "output_type": "stream",
     "text": [
      "down\n",
      "1    1486994\n",
      "0      29954\n",
      "Name: count, dtype: int64\n"
     ]
    },
    {
     "data": {
      "text/plain": [
       "down\n",
       "1    0.980254\n",
       "0    0.019746\n",
       "Name: proportion, dtype: float64"
      ]
     },
     "execution_count": 15,
     "metadata": {},
     "output_type": "execute_result"
    }
   ],
   "source": [
    "# Count the occurrences of each value in the 'down_label' column\n",
    "print(df['down'].value_counts())\n",
    "# Count theoccurrences of each value in the 'down_label' column\n",
    "df['down'].value_counts(normalize=True)"
   ]
  },
  {
   "cell_type": "markdown",
   "id": "8fa11eb4",
   "metadata": {},
   "source": [
    "**we remarque that we have unbalnceded data set**"
   ]
  },
  {
   "cell_type": "code",
   "execution_count": 16,
   "id": "b5333816",
   "metadata": {},
   "outputs": [
    {
     "name": "stdout",
     "output_type": "stream",
     "text": [
      "<class 'pandas.core.frame.DataFrame'>\n",
      "RangeIndex: 1516948 entries, 0 to 1516947\n",
      "Data columns (total 17 columns):\n",
      " #   Column           Non-Null Count    Dtype         \n",
      "---  ------           --------------    -----         \n",
      " 0   timestamp        1516948 non-null  datetime64[ns]\n",
      " 1   TP2              1516948 non-null  float64       \n",
      " 2   TP3              1516948 non-null  float64       \n",
      " 3   H1               1516948 non-null  float64       \n",
      " 4   DV_pressure      1516948 non-null  float64       \n",
      " 5   Reservoirs       1516948 non-null  float64       \n",
      " 6   Oil_temperature  1516948 non-null  float64       \n",
      " 7   Motor_current    1516948 non-null  float64       \n",
      " 8   COMP             1516948 non-null  float64       \n",
      " 9   DV_eletric       1516948 non-null  float64       \n",
      " 10  Towers           1516948 non-null  float64       \n",
      " 11  MPG              1516948 non-null  float64       \n",
      " 12  LPS              1516948 non-null  float64       \n",
      " 13  Pressure_switch  1516948 non-null  float64       \n",
      " 14  Oil_level        1516948 non-null  float64       \n",
      " 15  Caudal_impulses  1516948 non-null  float64       \n",
      " 16  down             1516948 non-null  int64         \n",
      "dtypes: datetime64[ns](1), float64(15), int64(1)\n",
      "memory usage: 196.7 MB\n"
     ]
    }
   ],
   "source": [
    "df.info()"
   ]
  },
  {
   "cell_type": "markdown",
   "id": "2c412bed",
   "metadata": {},
   "source": [
    "### We split the data into training and testing sets before preprocessing\n",
    "\n",
    "* we are doing this to avoid DATA LEAKAGE *"
   ]
  },
  {
   "cell_type": "code",
   "execution_count": 17,
   "id": "cef6024b",
   "metadata": {},
   "outputs": [],
   "source": [
    "from sklearn.model_selection import train_test_split\n",
    "\n",
    "X = df.drop(columns=['down'] , axis=1)  \n",
    "y = df['down']                 \n",
    "\n",
    "# Perform stratified sampling\n",
    "X_train, X_test, y_train, y_test = train_test_split(X, y, test_size=0.2, random_state=42, stratify=y)\n"
   ]
  },
  {
   "cell_type": "markdown",
   "id": "2467fb9a",
   "metadata": {},
   "source": [
    "# Data Exploratory Analysis"
   ]
  },
  {
   "cell_type": "markdown",
   "id": "2897da7b",
   "metadata": {},
   "source": [
    "**We check the number of unique of unique values in each of the features**"
   ]
  },
  {
   "cell_type": "code",
   "execution_count": 18,
   "id": "725ca85d-9389-4bee-9f5c-c229152c8888",
   "metadata": {
    "scrolled": false
   },
   "outputs": [
    {
     "name": "stdout",
     "output_type": "stream",
     "text": [
      "timestamp          1213558\n",
      "TP2                   5202\n",
      "TP3                   3475\n",
      "H1                    2465\n",
      "DV_pressure           2114\n",
      "Reservoirs            3472\n",
      "Oil_temperature       2399\n",
      "Motor_current         1707\n",
      "COMP                     2\n",
      "DV_eletric               2\n",
      "Towers                   2\n",
      "MPG                      2\n",
      "LPS                      2\n",
      "Pressure_switch          2\n",
      "Oil_level                2\n",
      "Caudal_impulses          2\n",
      "dtype: int64\n"
     ]
    }
   ],
   "source": [
    "unique_values_per_feature = X_train.nunique()\n",
    "\n",
    "print(unique_values_per_feature)"
   ]
  },
  {
   "cell_type": "code",
   "execution_count": 19,
   "id": "9625174f-627e-4212-9298-f7877efb550b",
   "metadata": {},
   "outputs": [
    {
     "name": "stdout",
     "output_type": "stream",
     "text": [
      "Unique values in 'COMP': [0. 1.]\n",
      "Unique values in 'DV_eletric': [1. 0.]\n",
      "Unique values in 'Towers': [0. 1.]\n",
      "Unique values in 'MPG': [0. 1.]\n",
      "Unique values in 'LPS': [0. 1.]\n",
      "Unique values in 'Pressure_switch': [1. 0.]\n",
      "Unique values in 'Oil_level': [1. 0.]\n",
      "Unique values in 'Caudal_impulses': [0. 1.]\n"
     ]
    }
   ],
   "source": [
    "columns_of_interest = ['COMP', 'DV_eletric', 'Towers', 'MPG', 'LPS', 'Pressure_switch', 'Oil_level', 'Caudal_impulses']\n",
    "\n",
    "for column in columns_of_interest:\n",
    "    unique_values = X_train[column].unique()\n",
    "    print(f\"Unique values in '{column}': {unique_values}\")\n"
   ]
  },
  {
   "cell_type": "code",
   "execution_count": 20,
   "id": "a0ae9dd2-ea8e-4057-9975-bc824fb1a51b",
   "metadata": {},
   "outputs": [],
   "source": [
    "# List of columns to convert to binary\n",
    "binary_columns = ['COMP', 'DV_eletric', 'Towers', 'MPG', 'LPS', 'Pressure_switch', 'Oil_level', 'Caudal_impulses']\n",
    "\n",
    "# Convert columns to binary\n",
    "for column in binary_columns:\n",
    "    df[column] = df[column].astype(int)"
   ]
  },
  {
   "cell_type": "code",
   "execution_count": 21,
   "id": "036c2698-5576-4f03-a298-2e3a23b48e62",
   "metadata": {},
   "outputs": [
    {
     "data": {
      "text/html": [
       "<div>\n",
       "<style scoped>\n",
       "    .dataframe tbody tr th:only-of-type {\n",
       "        vertical-align: middle;\n",
       "    }\n",
       "\n",
       "    .dataframe tbody tr th {\n",
       "        vertical-align: top;\n",
       "    }\n",
       "\n",
       "    .dataframe thead th {\n",
       "        text-align: right;\n",
       "    }\n",
       "</style>\n",
       "<table border=\"1\" class=\"dataframe\">\n",
       "  <thead>\n",
       "    <tr style=\"text-align: right;\">\n",
       "      <th></th>\n",
       "      <th>timestamp</th>\n",
       "      <th>TP2</th>\n",
       "      <th>TP3</th>\n",
       "      <th>H1</th>\n",
       "      <th>DV_pressure</th>\n",
       "      <th>Reservoirs</th>\n",
       "      <th>Oil_temperature</th>\n",
       "      <th>Motor_current</th>\n",
       "      <th>COMP</th>\n",
       "      <th>DV_eletric</th>\n",
       "      <th>Towers</th>\n",
       "      <th>MPG</th>\n",
       "      <th>LPS</th>\n",
       "      <th>Pressure_switch</th>\n",
       "      <th>Oil_level</th>\n",
       "      <th>Caudal_impulses</th>\n",
       "    </tr>\n",
       "  </thead>\n",
       "  <tbody>\n",
       "    <tr>\n",
       "      <th>291873</th>\n",
       "      <td>2020-03-11 07:23:41</td>\n",
       "      <td>9.968</td>\n",
       "      <td>9.576</td>\n",
       "      <td>-0.012</td>\n",
       "      <td>-0.026</td>\n",
       "      <td>9.570</td>\n",
       "      <td>66.450</td>\n",
       "      <td>6.0425</td>\n",
       "      <td>0.0</td>\n",
       "      <td>1.0</td>\n",
       "      <td>0.0</td>\n",
       "      <td>0.0</td>\n",
       "      <td>0.0</td>\n",
       "      <td>1.0</td>\n",
       "      <td>1.0</td>\n",
       "      <td>0.0</td>\n",
       "    </tr>\n",
       "    <tr>\n",
       "      <th>31228</th>\n",
       "      <td>2020-02-04 22:57:21</td>\n",
       "      <td>-0.014</td>\n",
       "      <td>8.130</td>\n",
       "      <td>8.120</td>\n",
       "      <td>-0.020</td>\n",
       "      <td>8.134</td>\n",
       "      <td>55.700</td>\n",
       "      <td>0.0350</td>\n",
       "      <td>1.0</td>\n",
       "      <td>0.0</td>\n",
       "      <td>1.0</td>\n",
       "      <td>1.0</td>\n",
       "      <td>0.0</td>\n",
       "      <td>1.0</td>\n",
       "      <td>1.0</td>\n",
       "      <td>1.0</td>\n",
       "    </tr>\n",
       "    <tr>\n",
       "      <th>1150046</th>\n",
       "      <td>2020-07-12 06:49:19</td>\n",
       "      <td>-0.014</td>\n",
       "      <td>8.632</td>\n",
       "      <td>8.620</td>\n",
       "      <td>-0.020</td>\n",
       "      <td>8.634</td>\n",
       "      <td>63.575</td>\n",
       "      <td>0.0400</td>\n",
       "      <td>1.0</td>\n",
       "      <td>0.0</td>\n",
       "      <td>1.0</td>\n",
       "      <td>1.0</td>\n",
       "      <td>0.0</td>\n",
       "      <td>1.0</td>\n",
       "      <td>1.0</td>\n",
       "      <td>1.0</td>\n",
       "    </tr>\n",
       "    <tr>\n",
       "      <th>1081908</th>\n",
       "      <td>2020-07-01 23:34:44</td>\n",
       "      <td>-0.012</td>\n",
       "      <td>9.042</td>\n",
       "      <td>9.028</td>\n",
       "      <td>-0.020</td>\n",
       "      <td>9.042</td>\n",
       "      <td>63.775</td>\n",
       "      <td>0.0400</td>\n",
       "      <td>1.0</td>\n",
       "      <td>0.0</td>\n",
       "      <td>1.0</td>\n",
       "      <td>1.0</td>\n",
       "      <td>0.0</td>\n",
       "      <td>1.0</td>\n",
       "      <td>1.0</td>\n",
       "      <td>1.0</td>\n",
       "    </tr>\n",
       "    <tr>\n",
       "      <th>495364</th>\n",
       "      <td>2020-04-08 07:05:53</td>\n",
       "      <td>-0.012</td>\n",
       "      <td>9.352</td>\n",
       "      <td>9.340</td>\n",
       "      <td>-0.024</td>\n",
       "      <td>9.350</td>\n",
       "      <td>63.700</td>\n",
       "      <td>0.0450</td>\n",
       "      <td>1.0</td>\n",
       "      <td>0.0</td>\n",
       "      <td>1.0</td>\n",
       "      <td>1.0</td>\n",
       "      <td>0.0</td>\n",
       "      <td>1.0</td>\n",
       "      <td>1.0</td>\n",
       "      <td>1.0</td>\n",
       "    </tr>\n",
       "  </tbody>\n",
       "</table>\n",
       "</div>"
      ],
      "text/plain": [
       "                  timestamp    TP2    TP3     H1  DV_pressure  Reservoirs  \\\n",
       "291873  2020-03-11 07:23:41  9.968  9.576 -0.012       -0.026       9.570   \n",
       "31228   2020-02-04 22:57:21 -0.014  8.130  8.120       -0.020       8.134   \n",
       "1150046 2020-07-12 06:49:19 -0.014  8.632  8.620       -0.020       8.634   \n",
       "1081908 2020-07-01 23:34:44 -0.012  9.042  9.028       -0.020       9.042   \n",
       "495364  2020-04-08 07:05:53 -0.012  9.352  9.340       -0.024       9.350   \n",
       "\n",
       "         Oil_temperature  Motor_current  COMP  DV_eletric  Towers  MPG  LPS  \\\n",
       "291873            66.450         6.0425   0.0         1.0     0.0  0.0  0.0   \n",
       "31228             55.700         0.0350   1.0         0.0     1.0  1.0  0.0   \n",
       "1150046           63.575         0.0400   1.0         0.0     1.0  1.0  0.0   \n",
       "1081908           63.775         0.0400   1.0         0.0     1.0  1.0  0.0   \n",
       "495364            63.700         0.0450   1.0         0.0     1.0  1.0  0.0   \n",
       "\n",
       "         Pressure_switch  Oil_level  Caudal_impulses  \n",
       "291873               1.0        1.0              0.0  \n",
       "31228                1.0        1.0              1.0  \n",
       "1150046              1.0        1.0              1.0  \n",
       "1081908              1.0        1.0              1.0  \n",
       "495364               1.0        1.0              1.0  "
      ]
     },
     "execution_count": 21,
     "metadata": {},
     "output_type": "execute_result"
    }
   ],
   "source": [
    "X_train.head()"
   ]
  },
  {
   "cell_type": "code",
   "execution_count": 22,
   "id": "9fa709f6-2673-4e69-af58-6f19075a31d4",
   "metadata": {},
   "outputs": [],
   "source": [
    "# # List of columns to analyze\n",
    "# columns_of_interest = ['COMP', 'DV_eletric', 'Towers', 'MPG', 'LPS', 'Pressure_switch', 'Oil_level', 'Caudal_impulses', 'down']\n",
    "\n",
    "# for column in columns_of_interest:\n",
    "#     counts = df[column].value_counts()\n",
    "#     total_entries = counts.sum()\n",
    "#     print(f\"Counts and Proportions for '{column}':\")\n",
    "#     for index, count in counts.items():\n",
    "#         proportion = count / total_entries\n",
    "#         print(f\"{index}: {count} ({proportion:.2%})\")\n",
    "#     print()\n"
   ]
  },
  {
   "cell_type": "code",
   "execution_count": 23,
   "id": "9b5040fa",
   "metadata": {},
   "outputs": [],
   "source": [
    "#df = df.drop(['timestamp'], axis=1)"
   ]
  },
  {
   "cell_type": "markdown",
   "id": "1fd2fe9b",
   "metadata": {},
   "source": [
    "# Data is biased"
   ]
  },
  {
   "cell_type": "code",
   "execution_count": 24,
   "id": "3188302c-3656-439f-bed5-4be2ac46452c",
   "metadata": {},
   "outputs": [],
   "source": [
    "# # Weekends vs. Weekdays\n",
    "# X_train['is_weekend'] = X_train['timestamp'].dt.dayofweek // 5\n",
    "\n",
    "# # Business Hours and Time of Day\n",
    "# X_train['hour_of_day'] = X_train['timestamp'].dt.hour\n",
    "# X_train['time_of_day'] = pd.cut(X_train['hour_of_day'], bins=[0, 6, 12, 18, 24], labels=['Night', 'Morning', 'Afternoon', 'Evening'], include_lowest=True)\n",
    "\n",
    "# # Seasons\n",
    "# seasons = {1: 'Winter', 2: 'Winter', 3: 'Spring', 4: 'Spring', 5: 'Spring', 6: 'Summer', 7: 'Summer', 8: 'Summer', 9: 'Autumn', 10: 'Autumn', 11: 'Autumn', 12: 'Winter'}\n",
    "# X_train['season'] = X_train['timestamp'].dt.month.map(seasons)\n",
    "\n",
    "# # Week of Year Number\n",
    "# X_train['week_of_year'] = X_train['timestamp'].dt.isocalendar().week\n",
    "\n",
    "# # Month\n",
    "# X_train['month'] = X_train['timestamp'].dt.month\n",
    "\n",
    "# # Year\n",
    "# X_train['year'] = X_train['timestamp'].dt.year\n",
    "\n",
    "# # Beginning/End of Month (Pay Days)\n",
    "# X_train['is_payday'] = X_train['timestamp'].dt.is_month_start | X_train['timestamp'].dt.is_month_end\n",
    "\n",
    "# # Quarter\n",
    "# X_train['quarter'] = X_train['timestamp'].dt.quarter\n",
    "\n",
    "# # Drop the original timestamp column\n",
    "# X_train.drop(columns=['timestamp'], inplace=True)\n",
    "\n",
    "# # Print a sample of the DataFrame to verify the new features\n",
    "# (X_train.head())\n",
    "\n",
    "\n",
    "\n"
   ]
  },
  {
   "cell_type": "code",
   "execution_count": 25,
   "id": "6c3b1bb2",
   "metadata": {},
   "outputs": [],
   "source": [
    "X_train = X_train.drop(['timestamp'], axis=1)"
   ]
  },
  {
   "cell_type": "code",
   "execution_count": 26,
   "id": "cc327d88-9d8f-4967-a2a6-b875cb73f727",
   "metadata": {},
   "outputs": [
    {
     "data": {
      "text/html": [
       "<div>\n",
       "<style scoped>\n",
       "    .dataframe tbody tr th:only-of-type {\n",
       "        vertical-align: middle;\n",
       "    }\n",
       "\n",
       "    .dataframe tbody tr th {\n",
       "        vertical-align: top;\n",
       "    }\n",
       "\n",
       "    .dataframe thead th {\n",
       "        text-align: right;\n",
       "    }\n",
       "</style>\n",
       "<table border=\"1\" class=\"dataframe\">\n",
       "  <thead>\n",
       "    <tr style=\"text-align: right;\">\n",
       "      <th></th>\n",
       "      <th>TP2</th>\n",
       "      <th>TP3</th>\n",
       "      <th>H1</th>\n",
       "      <th>DV_pressure</th>\n",
       "      <th>Reservoirs</th>\n",
       "      <th>Oil_temperature</th>\n",
       "      <th>Motor_current</th>\n",
       "      <th>COMP</th>\n",
       "      <th>DV_eletric</th>\n",
       "      <th>Towers</th>\n",
       "      <th>MPG</th>\n",
       "      <th>LPS</th>\n",
       "      <th>Pressure_switch</th>\n",
       "      <th>Oil_level</th>\n",
       "      <th>Caudal_impulses</th>\n",
       "    </tr>\n",
       "  </thead>\n",
       "  <tbody>\n",
       "    <tr>\n",
       "      <th>291873</th>\n",
       "      <td>9.968</td>\n",
       "      <td>9.576</td>\n",
       "      <td>-0.012</td>\n",
       "      <td>-0.026</td>\n",
       "      <td>9.570</td>\n",
       "      <td>66.450</td>\n",
       "      <td>6.0425</td>\n",
       "      <td>0.0</td>\n",
       "      <td>1.0</td>\n",
       "      <td>0.0</td>\n",
       "      <td>0.0</td>\n",
       "      <td>0.0</td>\n",
       "      <td>1.0</td>\n",
       "      <td>1.0</td>\n",
       "      <td>0.0</td>\n",
       "    </tr>\n",
       "    <tr>\n",
       "      <th>31228</th>\n",
       "      <td>-0.014</td>\n",
       "      <td>8.130</td>\n",
       "      <td>8.120</td>\n",
       "      <td>-0.020</td>\n",
       "      <td>8.134</td>\n",
       "      <td>55.700</td>\n",
       "      <td>0.0350</td>\n",
       "      <td>1.0</td>\n",
       "      <td>0.0</td>\n",
       "      <td>1.0</td>\n",
       "      <td>1.0</td>\n",
       "      <td>0.0</td>\n",
       "      <td>1.0</td>\n",
       "      <td>1.0</td>\n",
       "      <td>1.0</td>\n",
       "    </tr>\n",
       "    <tr>\n",
       "      <th>1150046</th>\n",
       "      <td>-0.014</td>\n",
       "      <td>8.632</td>\n",
       "      <td>8.620</td>\n",
       "      <td>-0.020</td>\n",
       "      <td>8.634</td>\n",
       "      <td>63.575</td>\n",
       "      <td>0.0400</td>\n",
       "      <td>1.0</td>\n",
       "      <td>0.0</td>\n",
       "      <td>1.0</td>\n",
       "      <td>1.0</td>\n",
       "      <td>0.0</td>\n",
       "      <td>1.0</td>\n",
       "      <td>1.0</td>\n",
       "      <td>1.0</td>\n",
       "    </tr>\n",
       "    <tr>\n",
       "      <th>1081908</th>\n",
       "      <td>-0.012</td>\n",
       "      <td>9.042</td>\n",
       "      <td>9.028</td>\n",
       "      <td>-0.020</td>\n",
       "      <td>9.042</td>\n",
       "      <td>63.775</td>\n",
       "      <td>0.0400</td>\n",
       "      <td>1.0</td>\n",
       "      <td>0.0</td>\n",
       "      <td>1.0</td>\n",
       "      <td>1.0</td>\n",
       "      <td>0.0</td>\n",
       "      <td>1.0</td>\n",
       "      <td>1.0</td>\n",
       "      <td>1.0</td>\n",
       "    </tr>\n",
       "    <tr>\n",
       "      <th>495364</th>\n",
       "      <td>-0.012</td>\n",
       "      <td>9.352</td>\n",
       "      <td>9.340</td>\n",
       "      <td>-0.024</td>\n",
       "      <td>9.350</td>\n",
       "      <td>63.700</td>\n",
       "      <td>0.0450</td>\n",
       "      <td>1.0</td>\n",
       "      <td>0.0</td>\n",
       "      <td>1.0</td>\n",
       "      <td>1.0</td>\n",
       "      <td>0.0</td>\n",
       "      <td>1.0</td>\n",
       "      <td>1.0</td>\n",
       "      <td>1.0</td>\n",
       "    </tr>\n",
       "  </tbody>\n",
       "</table>\n",
       "</div>"
      ],
      "text/plain": [
       "           TP2    TP3     H1  DV_pressure  Reservoirs  Oil_temperature  \\\n",
       "291873   9.968  9.576 -0.012       -0.026       9.570           66.450   \n",
       "31228   -0.014  8.130  8.120       -0.020       8.134           55.700   \n",
       "1150046 -0.014  8.632  8.620       -0.020       8.634           63.575   \n",
       "1081908 -0.012  9.042  9.028       -0.020       9.042           63.775   \n",
       "495364  -0.012  9.352  9.340       -0.024       9.350           63.700   \n",
       "\n",
       "         Motor_current  COMP  DV_eletric  Towers  MPG  LPS  Pressure_switch  \\\n",
       "291873          6.0425   0.0         1.0     0.0  0.0  0.0              1.0   \n",
       "31228           0.0350   1.0         0.0     1.0  1.0  0.0              1.0   \n",
       "1150046         0.0400   1.0         0.0     1.0  1.0  0.0              1.0   \n",
       "1081908         0.0400   1.0         0.0     1.0  1.0  0.0              1.0   \n",
       "495364          0.0450   1.0         0.0     1.0  1.0  0.0              1.0   \n",
       "\n",
       "         Oil_level  Caudal_impulses  \n",
       "291873         1.0              0.0  \n",
       "31228          1.0              1.0  \n",
       "1150046        1.0              1.0  \n",
       "1081908        1.0              1.0  \n",
       "495364         1.0              1.0  "
      ]
     },
     "execution_count": 26,
     "metadata": {},
     "output_type": "execute_result"
    }
   ],
   "source": [
    "X_train.head()"
   ]
  },
  {
   "cell_type": "code",
   "execution_count": 27,
   "id": "fd282d09-8a62-4990-87f8-3b69372aa5a0",
   "metadata": {},
   "outputs": [],
   "source": [
    "# # Label Encoding\n",
    "# from sklearn.preprocessing import LabelEncoder\n",
    "\n",
    "# label_encoder = LabelEncoder()\n",
    "# X_train['time_of_day_encoded'] = label_encoder.fit_transform(X_train['time_of_day'])\n",
    "# X_train['season_encoded'] = label_encoder.fit_transform(X_train['season'])\n",
    "\n",
    "# # One-Hot Encoding\n",
    "# one_hot_encoded_X_train = pd.get_dummies(X_train, columns=['time_of_day', 'season'])"
   ]
  },
  {
   "cell_type": "code",
   "execution_count": 28,
   "id": "36a0b427-f463-4b23-a396-5338f6005dc2",
   "metadata": {},
   "outputs": [],
   "source": [
    "# X_train.drop(['time_of_day', 'season'], axis=1, inplace=True)"
   ]
  },
  {
   "cell_type": "markdown",
   "id": "85a5e1a5",
   "metadata": {},
   "source": [
    "# drop year"
   ]
  },
  {
   "cell_type": "code",
   "execution_count": 29,
   "id": "5f41c3e1",
   "metadata": {},
   "outputs": [],
   "source": [
    "# X_train.drop(['year'] , axis = 1 , inplace = True)"
   ]
  },
  {
   "cell_type": "code",
   "execution_count": 30,
   "id": "a3d1227f",
   "metadata": {},
   "outputs": [
    {
     "data": {
      "image/png": "[encoded data removed]",
      "text/plain": [
       "<Figure size 2000x800 with 2 Axes>"
      ]
     },
     "metadata": {},
     "output_type": "display_data"
    }
   ],
   "source": [
    "import numpy as np\n",
    "\n",
    "# Compute the correlation matrix\n",
    "correlation_matrix = X_train.corr()\n",
    "\n",
    "# Generate a mask for the upper triangle\n",
    "mask = np.triu(np.ones_like(correlation_matrix, dtype=bool))\n",
    "\n",
    "# Plotting the heatmap with upper triangle masked\n",
    "plt.figure(figsize=(20, 8))\n",
    "sns.heatmap(correlation_matrix, mask=mask, annot=True, cmap='coolwarm', fmt=\".2f\")\n",
    "plt.title('Correlation Heatmap (Upper Triangle)')\n",
    "plt.show()\n"
   ]
  },
  {
   "cell_type": "code",
   "execution_count": 31,
   "id": "f289483f",
   "metadata": {},
   "outputs": [
    {
     "data": {
      "text/html": [
       "<div>\n",
       "<style scoped>\n",
       "    .dataframe tbody tr th:only-of-type {\n",
       "        vertical-align: middle;\n",
       "    }\n",
       "\n",
       "    .dataframe tbody tr th {\n",
       "        vertical-align: top;\n",
       "    }\n",
       "\n",
       "    .dataframe thead th {\n",
       "        text-align: right;\n",
       "    }\n",
       "</style>\n",
       "<table border=\"1\" class=\"dataframe\">\n",
       "  <thead>\n",
       "    <tr style=\"text-align: right;\">\n",
       "      <th></th>\n",
       "      <th>TP3</th>\n",
       "      <th>Reservoirs</th>\n",
       "      <th>COMP</th>\n",
       "      <th>H1</th>\n",
       "      <th>MPG</th>\n",
       "    </tr>\n",
       "  </thead>\n",
       "  <tbody>\n",
       "    <tr>\n",
       "      <th>291873</th>\n",
       "      <td>9.576</td>\n",
       "      <td>9.570</td>\n",
       "      <td>0.0</td>\n",
       "      <td>-0.012</td>\n",
       "      <td>0.0</td>\n",
       "    </tr>\n",
       "    <tr>\n",
       "      <th>31228</th>\n",
       "      <td>8.130</td>\n",
       "      <td>8.134</td>\n",
       "      <td>1.0</td>\n",
       "      <td>8.120</td>\n",
       "      <td>1.0</td>\n",
       "    </tr>\n",
       "    <tr>\n",
       "      <th>1150046</th>\n",
       "      <td>8.632</td>\n",
       "      <td>8.634</td>\n",
       "      <td>1.0</td>\n",
       "      <td>8.620</td>\n",
       "      <td>1.0</td>\n",
       "    </tr>\n",
       "    <tr>\n",
       "      <th>1081908</th>\n",
       "      <td>9.042</td>\n",
       "      <td>9.042</td>\n",
       "      <td>1.0</td>\n",
       "      <td>9.028</td>\n",
       "      <td>1.0</td>\n",
       "    </tr>\n",
       "    <tr>\n",
       "      <th>495364</th>\n",
       "      <td>9.352</td>\n",
       "      <td>9.350</td>\n",
       "      <td>1.0</td>\n",
       "      <td>9.340</td>\n",
       "      <td>1.0</td>\n",
       "    </tr>\n",
       "    <tr>\n",
       "      <th>...</th>\n",
       "      <td>...</td>\n",
       "      <td>...</td>\n",
       "      <td>...</td>\n",
       "      <td>...</td>\n",
       "      <td>...</td>\n",
       "    </tr>\n",
       "    <tr>\n",
       "      <th>1147342</th>\n",
       "      <td>9.090</td>\n",
       "      <td>9.092</td>\n",
       "      <td>1.0</td>\n",
       "      <td>9.076</td>\n",
       "      <td>1.0</td>\n",
       "    </tr>\n",
       "    <tr>\n",
       "      <th>1277425</th>\n",
       "      <td>10.138</td>\n",
       "      <td>10.136</td>\n",
       "      <td>1.0</td>\n",
       "      <td>10.138</td>\n",
       "      <td>1.0</td>\n",
       "    </tr>\n",
       "    <tr>\n",
       "      <th>630988</th>\n",
       "      <td>9.714</td>\n",
       "      <td>9.714</td>\n",
       "      <td>1.0</td>\n",
       "      <td>9.700</td>\n",
       "      <td>1.0</td>\n",
       "    </tr>\n",
       "    <tr>\n",
       "      <th>1040048</th>\n",
       "      <td>8.442</td>\n",
       "      <td>8.446</td>\n",
       "      <td>1.0</td>\n",
       "      <td>8.432</td>\n",
       "      <td>1.0</td>\n",
       "    </tr>\n",
       "    <tr>\n",
       "      <th>434932</th>\n",
       "      <td>8.494</td>\n",
       "      <td>8.494</td>\n",
       "      <td>1.0</td>\n",
       "      <td>8.484</td>\n",
       "      <td>1.0</td>\n",
       "    </tr>\n",
       "  </tbody>\n",
       "</table>\n",
       "<p>1213558 rows × 5 columns</p>\n",
       "</div>"
      ],
      "text/plain": [
       "            TP3  Reservoirs  COMP      H1  MPG\n",
       "291873    9.576       9.570   0.0  -0.012  0.0\n",
       "31228     8.130       8.134   1.0   8.120  1.0\n",
       "1150046   8.632       8.634   1.0   8.620  1.0\n",
       "1081908   9.042       9.042   1.0   9.028  1.0\n",
       "495364    9.352       9.350   1.0   9.340  1.0\n",
       "...         ...         ...   ...     ...  ...\n",
       "1147342   9.090       9.092   1.0   9.076  1.0\n",
       "1277425  10.138      10.136   1.0  10.138  1.0\n",
       "630988    9.714       9.714   1.0   9.700  1.0\n",
       "1040048   8.442       8.446   1.0   8.432  1.0\n",
       "434932    8.494       8.494   1.0   8.484  1.0\n",
       "\n",
       "[1213558 rows x 5 columns]"
      ]
     },
     "execution_count": 31,
     "metadata": {},
     "output_type": "execute_result"
    }
   ],
   "source": [
    "X_train[['TP3', 'Reservoirs', 'COMP', 'H1', 'MPG']]"
   ]
  },
  {
   "cell_type": "markdown",
   "id": "63a7be3b",
   "metadata": {},
   "source": [
    "# Same preprocessing for the test data"
   ]
  },
  {
   "cell_type": "code",
   "execution_count": 32,
   "id": "e545ce2b",
   "metadata": {},
   "outputs": [],
   "source": [
    "# # Weekends vs. Weekdays\n",
    "# X_test['is_weekend'] = X_test['timestamp'].dt.dayofweek // 5\n",
    "\n",
    "# # Business Hours and Time of Day\n",
    "# X_test['hour_of_day'] = X_test['timestamp'].dt.hour\n",
    "# X_test['time_of_day'] = pd.cut(X_test['hour_of_day'], bins=[0, 6, 12, 18, 24], labels=['Night', 'Morning', 'Afternoon', 'Evening'], include_lowest=True)\n",
    "\n",
    "# # Seasons\n",
    "# seasons = {1: 'Winter', 2: 'Winter', 3: 'Spring', 4: 'Spring', 5: 'Spring', 6: 'Summer', 7: 'Summer', 8: 'Summer', 9: 'Autumn', 10: 'Autumn', 11: 'Autumn', 12: 'Winter'}\n",
    "# X_test['season'] = X_test['timestamp'].dt.month.map(seasons)\n",
    "\n",
    "# # Week of Year Number\n",
    "# X_test['week_of_year'] = X_test['timestamp'].dt.isocalendar().week\n",
    "\n",
    "# # Month\n",
    "# X_test['month'] = X_test['timestamp'].dt.month\n",
    "\n",
    "# # Year\n",
    "# X_test['year'] = X_test['timestamp'].dt.year\n",
    "\n",
    "# # Beginning/End of Month (Pay Days)\n",
    "# X_test['is_payday'] = X_test['timestamp'].dt.is_month_start | X_test['timestamp'].dt.is_month_end\n",
    "\n",
    "# # Quarter\n",
    "# X_test['quarter'] = X_test['timestamp'].dt.quarter\n",
    "\n",
    "\n",
    "\n",
    "# # Print a sample of the DataFrame to verify the new features\n",
    "# (X_test.head())\n",
    "\n",
    "\n",
    "# X_test['time_of_day_encoded'] = label_encoder.fit_transform(X_test['time_of_day'])\n",
    "# X_test['season_encoded'] = label_encoder.fit_transform(X_test['season'])\n",
    "\n",
    "# # One-Hot Encoding\n",
    "# one_hot_encoded_X_test = pd.get_dummies(X_test, columns=['time_of_day', 'season'])\n",
    "\n",
    "# X_test.drop(['time_of_day', 'season'], axis=1, inplace=True)\n",
    "\n",
    "# X_test.drop(['year'] , axis = 1 , inplace = True)\n",
    "\n",
    "\n"
   ]
  },
  {
   "cell_type": "code",
   "execution_count": 33,
   "id": "b2392f34",
   "metadata": {},
   "outputs": [],
   "source": [
    "# Drop the original timestamp column\n",
    "X_test.drop(columns=['timestamp'], inplace=True)"
   ]
  },
  {
   "cell_type": "code",
   "execution_count": 34,
   "id": "8ba6385e",
   "metadata": {},
   "outputs": [
    {
     "data": {
      "text/plain": [
       "Index(['TP2', 'TP3', 'H1', 'DV_pressure', 'Reservoirs', 'Oil_temperature',\n",
       "       'Motor_current', 'COMP', 'DV_eletric', 'Towers', 'MPG', 'LPS',\n",
       "       'Pressure_switch', 'Oil_level', 'Caudal_impulses'],\n",
       "      dtype='object')"
      ]
     },
     "execution_count": 34,
     "metadata": {},
     "output_type": "execute_result"
    }
   ],
   "source": [
    "X_train.columns"
   ]
  },
  {
   "cell_type": "code",
   "execution_count": 35,
   "id": "750c717e",
   "metadata": {},
   "outputs": [
    {
     "data": {
      "text/plain": [
       "(1213558, 15)"
      ]
     },
     "execution_count": 35,
     "metadata": {},
     "output_type": "execute_result"
    }
   ],
   "source": [
    "X_train.shape"
   ]
  },
  {
   "cell_type": "code",
   "execution_count": 36,
   "id": "0fb4ad12",
   "metadata": {},
   "outputs": [
    {
     "data": {
      "text/plain": [
       "(1213558,)"
      ]
     },
     "execution_count": 36,
     "metadata": {},
     "output_type": "execute_result"
    }
   ],
   "source": [
    "y_train.shape"
   ]
  },
  {
   "cell_type": "markdown",
   "id": "312e0d17",
   "metadata": {},
   "source": [
    "# MODELLING"
   ]
  },
  {
   "cell_type": "code",
   "execution_count": 37,
   "id": "0be86ed0-092f-4ecd-b882-8b4920325a91",
   "metadata": {},
   "outputs": [
    {
     "name": "stdout",
     "output_type": "stream",
     "text": [
      "Decision Tree Classifier Accuracy: 0.9991496094136261\n",
      "Decision Tree Classifier f score: 0.9995662509624857\n"
     ]
    }
   ],
   "source": [
    "from sklearn.tree import DecisionTreeClassifier\n",
    "from sklearn.metrics import accuracy_score\n",
    "from sklearn.metrics import f1_score\n",
    "# Initialize the Decision Tree classifier\n",
    "dt_classifier = DecisionTreeClassifier(random_state=42)\n",
    "\n",
    "# Train the classifier on the training data\n",
    "dt_classifier.fit(X_train, y_train)\n",
    "\n",
    "# Predict the labels for the test set\n",
    "y_pred = dt_classifier.predict(X_test)\n",
    "\n",
    "# Calculate the accuracy of the model\n",
    "accuracy = accuracy_score(y_test, y_pred)\n",
    "f1_score = f1_score(y_test, y_pred)\n",
    "\n",
    "# Print the accuracy\n",
    "print(\"Decision Tree Classifier Accuracy:\", accuracy)\n",
    "print(\"Decision Tree Classifier f score:\", f1_score)\n"
   ]
  },
  {
   "cell_type": "code",
   "execution_count": 39,
   "id": "e74853e2",
   "metadata": {},
   "outputs": [
    {
     "name": "stdout",
     "output_type": "stream",
     "text": [
      "              precision    recall  f1-score   support\n",
      "\n",
      "           0       0.98      0.98      0.98      5991\n",
      "           1       1.00      1.00      1.00    297399\n",
      "\n",
      "    accuracy                           1.00    303390\n",
      "   macro avg       0.99      0.99      0.99    303390\n",
      "weighted avg       1.00      1.00      1.00    303390\n",
      "\n",
      "\n",
      "Confusion Matrix:\n",
      " [[  5854    137]\n",
      " [   121 297278]]\n"
     ]
    }
   ],
   "source": [
    "from sklearn.metrics import classification_report, confusion_matrix\n",
    "classification_report = classification_report(y_test, y_pred)\n",
    "print(classification_report)\n",
    "print(\"\\nConfusion Matrix:\\n\", confusion_matrix(y_test, y_pred))\n"
   ]
  },
  {
   "cell_type": "code",
   "execution_count": 40,
   "id": "f3e76257",
   "metadata": {},
   "outputs": [
    {
     "name": "stdout",
     "output_type": "stream",
     "text": [
      "Accuracy: 0.9993968159794324\n",
      "\n",
      "Confusion Matrix:\n",
      " [[  5920     71]\n",
      " [   112 297287]]\n"
     ]
    }
   ],
   "source": [
    "from sklearn.ensemble import RandomForestClassifier\n",
    "from sklearn.metrics import confusion_matrix\n",
    "\n",
    "\n",
    "rf_classifier = RandomForestClassifier(n_estimators=10, random_state=42)\n",
    "\n",
    "# Fit the model on the training data\n",
    "rf_classifier.fit(X_train, y_train)\n",
    "\n",
    "# Make predictions on the test data\n",
    "y_pred = rf_classifier.predict(X_test)\n",
    "\n",
    "# Evaluate the model\n",
    "print(\"Accuracy:\", accuracy_score(y_test, y_pred))\n",
    "print(\"\\nConfusion Matrix:\\n\", confusion_matrix(y_test, y_pred))\n"
   ]
  },
  {
   "cell_type": "code",
   "execution_count": 47,
   "id": "f37b868a-feba-4afd-ba7a-28f952bc7aae",
   "metadata": {},
   "outputs": [
    {
     "name": "stdout",
     "output_type": "stream",
     "text": [
      "Naive Bayes Classifier Accuracy: 0.9090642407462343\n",
      "[[  5948     43]\n",
      " [ 27546 269853]]\n"
     ]
    }
   ],
   "source": [
    "from sklearn.naive_bayes import GaussianNB\n",
    "from sklearn.metrics import accuracy_score\n",
    "from sklearn.model_selection import train_test_split\n",
    "from sklearn.preprocessing import StandardScaler\n",
    "\n",
    "# Standardizing the features (optional but recommended for Naive Bayes)\n",
    "scaler = StandardScaler()\n",
    "X_train_scaled = scaler.fit_transform(X_train)\n",
    "X_test_scaled = scaler.transform(X_test)\n",
    "\n",
    "# Initialize the Naive Bayes classifier (Gaussian Naive Bayes for continuous features)\n",
    "nb_classifier = GaussianNB()\n",
    "\n",
    "# Train the classifier on the training data\n",
    "nb_classifier.fit(X_train_scaled, y_train)\n",
    "\n",
    "# Predict the labels for the test set\n",
    "y_pred = nb_classifier.predict(X_test_scaled)\n",
    "\n",
    "# Calculate the accuracy of the model\n",
    "accuracy = accuracy_score(y_test, y_pred)\n",
    "# Print the accuracy\n",
    "print(\"Naive Bayes Classifier Accuracy:\", accuracy)\n",
    "print(confusion_matrix(y_test, y_pred))\n",
    "\n",
    "\n"
   ]
  },
  {
   "cell_type": "code",
   "execution_count": 48,
   "id": "9a6c29e8",
   "metadata": {},
   "outputs": [
    {
     "data": {
      "text/plain": [
       "array([-5991])"
      ]
     },
     "execution_count": 48,
     "metadata": {},
     "output_type": "execute_result"
    }
   ],
   "source": [
    "y_test.sum() - y_test.shape\n"
   ]
  },
  {
   "cell_type": "code",
   "execution_count": 50,
   "id": "8204d7dd",
   "metadata": {},
   "outputs": [
    {
     "ename": "TypeError",
     "evalue": "'str' object is not callable",
     "output_type": "error",
     "traceback": [
      "\u001b[1;31m---------------------------------------------------------------------------\u001b[0m",
      "\u001b[1;31mTypeError\u001b[0m                                 Traceback (most recent call last)",
      "Cell \u001b[1;32mIn[50], line 14\u001b[0m\n\u001b[0;32m     11\u001b[0m y_pred \u001b[38;5;241m=\u001b[39m knn_classifier\u001b[38;5;241m.\u001b[39mpredict(X_test)\n\u001b[0;32m     13\u001b[0m \u001b[38;5;66;03m# Print classification report\u001b[39;00m\n\u001b[1;32m---> 14\u001b[0m \u001b[38;5;28mprint\u001b[39m(\u001b[38;5;124m\"\u001b[39m\u001b[38;5;124mKNN Classification Report:\u001b[39m\u001b[38;5;130;01m\\n\u001b[39;00m\u001b[38;5;124m\"\u001b[39m, \u001b[43mclassification_report\u001b[49m\u001b[43m(\u001b[49m\u001b[43my_test\u001b[49m\u001b[43m,\u001b[49m\u001b[43m \u001b[49m\u001b[43my_pred\u001b[49m\u001b[43m)\u001b[49m)\n",
      "\u001b[1;31mTypeError\u001b[0m: 'str' object is not callable"
     ]
    }
   ],
   "source": [
    "# Initialize the KNN classifier\n",
    "from sklearn.neighbors import KNeighborsClassifier\n",
    "\n",
    "\n",
    "knn_classifier = KNeighborsClassifier(n_neighbors=5)\n",
    "\n",
    "# Fit the model on the training data\n",
    "knn_classifier.fit(X_train, y_train)\n",
    "\n",
    "# Make predictions on the test data\n",
    "y_pred = knn_classifier.predict(X_test)\n",
    "\n",
    "# Print classification report\n"
   ]
  },
  {
   "cell_type": "code",
   "execution_count": 51,
   "id": "abcd9329",
   "metadata": {},
   "outputs": [
    {
     "name": "stdout",
     "output_type": "stream",
     "text": [
      "Accuracy: 0.9986354197567487\n"
     ]
    }
   ],
   "source": [
    "print(\"Accuracy:\", accuracy_score(y_test, y_pred))"
   ]
  },
  {
   "cell_type": "code",
   "execution_count": null,
   "id": "7398de61",
   "metadata": {},
   "outputs": [],
   "source": [
    "# Initialize the SVM classifier\n",
    "from sklearn.svm import SVC\n",
    "\n",
    "\n",
    "svm_classifier = SVC(kernel='linear', C=1E10)  # Linear kernel with high regularization\n",
    "\n",
    "# Fit the model on the training data\n",
    "svm_classifier.fit(X_train, y_train)\n",
    "\n",
    "# Make predictions on the test data\n",
    "y_pred_svm = svm_classifier.predict(X_test)\n",
    "\n",
    "# Print classification report\n",
    "print(\"SVM Classification Report:\\n\", classification_report(y_test, y_pred_svm))"
   ]
  },
  {
   "cell_type": "code",
   "execution_count": null,
   "id": "d1761fbe",
   "metadata": {},
   "outputs": [],
   "source": [
    "# Import necessary packages\n",
    "import tensorflow as tf\n",
    "from tensorflow.keras.models import Sequential\n",
    "from tensorflow.keras.layers import Dense\n",
    "# Initialize the ANN model\n",
    "ann_model = Sequential()\n",
    "ann_model.add(Dense(units=64, activation='relu', input_dim=X_train.shape[1]))\n",
    "ann_model.add(Dense(units=1, activation='sigmoid'))  # Binary classification\n",
    "\n",
    "# Compile the model\n",
    "ann_model.compile(optimizer='adam', loss='binary_crossentropy', metrics=['accuracy'])\n",
    "\n",
    "# Fit the model on the training data\n",
    "ann_model.fit(X_train, y_train, epochs=10, batch_size=32, verbose=1)\n",
    "\n",
    "# Evaluate the model on the test data\n",
    "_, accuracy = ann_model.evaluate(X_test, y_test)\n",
    "print(f\"ANN Accuracy: {accuracy:.2f}\")"
   ]
  }
 ],
 "metadata": {
  "kernelspec": {
   "display_name": "Python 3 (ipykernel)",
   "language": "python",
   "name": "python3"
  },
  "language_info": {
   "codemirror_mode": {
    "name": "ipython",
    "version": 3
   },
   "file_extension": ".py",
   "mimetype": "text/x-python",
   "name": "python",
   "nbconvert_exporter": "python",
   "pygments_lexer": "ipython3",
   "version": "3.11.9"
  }
 },
 "nbformat": 4,
 "nbformat_minor": 5
}
